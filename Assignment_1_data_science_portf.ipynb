{
 "cells": [
  {
   "cell_type": "markdown",
   "id": "9d182ad0",
   "metadata": {},
   "source": [
    "# Question 1: A car with a full tank of gas drives 80 miles per hour for 3 hours before running out of gas. How many miles can the car go per tank?"
   ]
  },
  {
   "cell_type": "code",
   "execution_count": 11,
   "id": "a9dcdcf1",
   "metadata": {},
   "outputs": [
    {
     "data": {
      "text/html": [
       "'The number of miles the car can go per tank is 240 miles'"
      ],
      "text/latex": [
       "'The number of miles the car can go per tank is 240 miles'"
      ],
      "text/markdown": [
       "'The number of miles the car can go per tank is 240 miles'"
      ],
      "text/plain": [
       "[1] \"The number of miles the car can go per tank is 240 miles\""
      ]
     },
     "metadata": {},
     "output_type": "display_data"
    }
   ],
   "source": [
    "miles_per_hour <- 80\n",
    "time_in_hours <- 3\n",
    "miles_per_tank <- miles_per_hour * time_in_hours\n",
    "paste0(\"The number of miles the car can go per tank is \", miles_per_tank, \" miles\")"
   ]
  },
  {
   "cell_type": "markdown",
   "id": "45278cf4",
   "metadata": {},
   "source": [
    "# Question 2: A runner travels a half marathon (13.1 miles) in 3 hours. How fast was this runner going in miles per hour?"
   ]
  },
  {
   "cell_type": "code",
   "execution_count": 12,
   "id": "8550cfb8",
   "metadata": {
    "scrolled": true
   },
   "outputs": [
    {
     "data": {
      "text/html": [
       "'The runner is going in 4.36666666666667 miles per hour'"
      ],
      "text/latex": [
       "'The runner is going in 4.36666666666667 miles per hour'"
      ],
      "text/markdown": [
       "'The runner is going in 4.36666666666667 miles per hour'"
      ],
      "text/plain": [
       "[1] \"The runner is going in 4.36666666666667 miles per hour\""
      ]
     },
     "metadata": {},
     "output_type": "display_data"
    }
   ],
   "source": [
    "miles <- 13.1\n",
    "hours <- 3\n",
    "miles_per_hour <- miles/hours\n",
    "paste0(\"The runner is going in \", miles_per_hour, \" miles per hour\")"
   ]
  },
  {
   "cell_type": "markdown",
   "id": "63d4ff36",
   "metadata": {},
   "source": [
    "## Question 3: The spread of a virus is exponential. If 5 people are infected and each person infects 2 other people, how many people have been infected after 5 rounds of infection?"
   ]
  },
  {
   "cell_type": "code",
   "execution_count": 13,
   "id": "b0427983",
   "metadata": {},
   "outputs": [
    {
     "data": {
      "text/html": [
       "'The number of people that maybe infected after 5 rounds of infection are 125'"
      ],
      "text/latex": [
       "'The number of people that maybe infected after 5 rounds of infection are 125'"
      ],
      "text/markdown": [
       "'The number of people that maybe infected after 5 rounds of infection are 125'"
      ],
      "text/plain": [
       "[1] \"The number of people that maybe infected after 5 rounds of infection are 125\""
      ]
     },
     "metadata": {},
     "output_type": "display_data"
    }
   ],
   "source": [
    "no_of_people_infected <- 5\n",
    "each_person_rate_infection <- 2\n",
    "rounds_of_infection <- 5\n",
    "people_infected <- rounds_of_infection * (no_of_people_infected ** each_person_rate_infection)\n",
    "paste0(\"The number of people that maybe infected after 5 rounds of infection are \", people_infected)"
   ]
  }
 ],
 "metadata": {
  "kernelspec": {
   "display_name": "R",
   "language": "R",
   "name": "ir"
  },
  "language_info": {
   "codemirror_mode": "r",
   "file_extension": ".r",
   "mimetype": "text/x-r-source",
   "name": "R",
   "pygments_lexer": "r",
   "version": "3.6.1"
  }
 },
 "nbformat": 4,
 "nbformat_minor": 5
}
